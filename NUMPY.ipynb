{
 "cells": [
  {
   "cell_type": "code",
   "execution_count": 53,
   "id": "313c8b0f-c061-44f0-b0b4-06e86c562a35",
   "metadata": {},
   "outputs": [
    {
     "name": "stdout",
     "output_type": "stream",
     "text": [
      "[1 2 3 4 5]\n",
      "<class 'numpy.ndarray'>\n"
     ]
    }
   ],
   "source": [
    "import numpy as np\n",
    "a = np.array([1,2,3,4,5])\n",
    "print(a)\n",
    "print(type(a))"
   ]
  },
  {
   "cell_type": "code",
   "execution_count": 59,
   "id": "81528e20-24ab-4ec2-a9a9-15c5a09dcb04",
   "metadata": {},
   "outputs": [
    {
     "name": "stdout",
     "output_type": "stream",
     "text": [
      "42\n"
     ]
    }
   ],
   "source": [
    "import numpy as np\n",
    "array0d=(42)\n",
    "print(array0d)"
   ]
  },
  {
   "cell_type": "code",
   "execution_count": 57,
   "id": "33c12c41-3714-4518-ac19-e861a3f7be94",
   "metadata": {},
   "outputs": [
    {
     "name": "stdout",
     "output_type": "stream",
     "text": [
      "[1 2 3 4 5 6]\n"
     ]
    }
   ],
   "source": [
    "import numpy as np\n",
    "array1d=np.array([1,2,3,4,5,6])\n",
    "print(array1d)"
   ]
  },
  {
   "cell_type": "code",
   "execution_count": 61,
   "id": "237c0e3c-ab62-4928-8d5f-fc167d6e39ec",
   "metadata": {},
   "outputs": [
    {
     "name": "stdout",
     "output_type": "stream",
     "text": [
      "[[1 2 3 4]\n",
      " [5 6 7 8]]\n"
     ]
    }
   ],
   "source": [
    "import numpy as np\n",
    "array2d=np.array([[1,2,3,4],[5,6,7,8]])\n",
    "print(array2d)"
   ]
  },
  {
   "cell_type": "code",
   "execution_count": 31,
   "id": "270dec5d-65e1-43f9-8303-9b5d8321e589",
   "metadata": {},
   "outputs": [
    {
     "name": "stdout",
     "output_type": "stream",
     "text": [
      "[[[ 1  2  3  4]\n",
      "  [ 5  6  7  8]]\n",
      "\n",
      " [[ 9 10 11 12]\n",
      "  [13 14 15 16]]]\n"
     ]
    }
   ],
   "source": [
    "import numpy as np\n",
    "array3d=np.array([[[1,2,3,4],[5,6,7,8]],[[9,10,11,12],[13,14,15,16]]])\n",
    "print(array3d)"
   ]
  },
  {
   "cell_type": "code",
   "execution_count": 65,
   "id": "088d8c89-43e4-4af0-afd3-9621a2d7eee2",
   "metadata": {},
   "outputs": [
    {
     "name": "stdout",
     "output_type": "stream",
     "text": [
      "[1 2 3]\n",
      "int32\n"
     ]
    }
   ],
   "source": [
    "import numpy as np \n",
    "array1d=np.array([1,2,3])\n",
    "print(array1d)\n",
    "print(array1d.dtype)"
   ]
  },
  {
   "cell_type": "code",
   "execution_count": 69,
   "id": "d96f3772-c47c-4b56-a045-3f4d32b4d0fc",
   "metadata": {},
   "outputs": [
    {
     "name": "stdout",
     "output_type": "stream",
     "text": [
      "int32\n",
      "float64\n",
      "<U1\n",
      "<U9\n",
      "float64\n",
      "['Canad' 'Austr']\n"
     ]
    }
   ],
   "source": [
    "import numpy as np\n",
    "type1= np.array([1, 2, 3, 4, 5, 6])\n",
    "type2 =np.array([1.5, 2.5, 0.5, 6])\n",
    "type3= np.array(['a', 'b', 'c'])\n",
    "type4 =np.array([\"Canada\", \"Australia\"])\n",
    "type5 =np.array([555, 666], dtype=float)\n",
    "type6 =np.array([\"Canada\", \"Australia\"],dtype=\"U5\")\n",
    "print(type1.dtype)\n",
    "print(type2.dtype)\n",
    "print(type3.dtype)\n",
    "print(type4.dtype)\n",
    "print(type5.dtype)\n",
    "print(type6)"
   ]
  },
  {
   "cell_type": "code",
   "execution_count": 67,
   "id": "f2d2d7aa-734f-4fe3-8765-bc22d4718e33",
   "metadata": {},
   "outputs": [
    {
     "name": "stdout",
     "output_type": "stream",
     "text": [
      "(6,)\n",
      "(2, 3)\n",
      "(2, 2, 4)\n"
     ]
    }
   ],
   "source": [
    "import numpy as np\n",
    "array1d=np.array([1,2,3,4,5,6])\n",
    "array2d=np.array([[1,2,3],[4,5,6]])\n",
    "array3d=np.array([[[1,2,3,4],[5,6,7,8]],[[9,10,11,12],[13,14,15,16]]])\n",
    "\n",
    "print(array1d.shape)\n",
    "print(array2d.shape)\n",
    "print(array3d.shape)"
   ]
  },
  {
   "cell_type": "code",
   "execution_count": 71,
   "id": "b19a5898-12ef-4b47-9f5e-390cdb12188b",
   "metadata": {},
   "outputs": [
    {
     "name": "stdout",
     "output_type": "stream",
     "text": [
      "1\n",
      "2\n",
      "3\n"
     ]
    }
   ],
   "source": [
    "import numpy as np\n",
    "array1d=np.array([1,2,3,4,5,6])\n",
    "array2d=np.array([[1,2,3],[4,5,6]])\n",
    "array3d=np.array([[[1,2,3,4],[5,6,7,8]],[[9,10,11,12],[13,14,15,16]]])\n",
    "print(array1d.ndim)\n",
    "print(array2d.ndim)\n",
    "print(array3d.ndim)"
   ]
  },
  {
   "cell_type": "code",
   "execution_count": 75,
   "id": "07fce686-b255-47c1-af03-9752323183bf",
   "metadata": {},
   "outputs": [
    {
     "name": "stdout",
     "output_type": "stream",
     "text": [
      "[[1 2]\n",
      " [3 4]\n",
      " [5 6]\n",
      " [7 8]]\n"
     ]
    }
   ],
   "source": [
    "import numpy as np\n",
    "thearray=np.array([1,2,3,4,5,6,7,8])\n",
    "thearray=thearray.reshape(4,2)\n",
    "print(thearray)"
   ]
  },
  {
   "cell_type": "code",
   "execution_count": 73,
   "id": "fc7c5713-ead4-4e1b-b3b1-db18aa7d0e81",
   "metadata": {},
   "outputs": [
    {
     "name": "stdout",
     "output_type": "stream",
     "text": [
      "[[1 2 3 4]\n",
      " [5 6 7 8]]\n"
     ]
    }
   ],
   "source": [
    "import numpy as np\n",
    "thearray=np.array([1,2,3,4,5,6,7,8])\n",
    "thearray=thearray.reshape(2,4)\n",
    "print(thearray)"
   ]
  },
  {
   "cell_type": "code",
   "execution_count": null,
   "id": "1d3a0708-a541-40f3-8d49-43b91822947f",
   "metadata": {},
   "outputs": [],
   "source": [
    "import numpy as np\n",
    "thearray=np.array([1,2,3,4,5,6,7,8])\n",
    "thearray=thearray.reshape(8,1)\n",
    "print(thearray)"
   ]
  },
  {
   "cell_type": "code",
   "execution_count": null,
   "id": "bd847c53-a9f3-4579-8fa3-c56f7fa34177",
   "metadata": {},
   "outputs": [],
   "source": [
    "import numpy as np\n",
    "thearray=np.array([1,2,3,4,5,6,7,8])\n",
    "thearray.resize(4)\n",
    "print(thearray)"
   ]
  },
  {
   "cell_type": "code",
   "execution_count": null,
   "id": "483c2cfd-ee42-4fe2-ad9e-34e4ce870c7f",
   "metadata": {},
   "outputs": [],
   "source": [
    "import numpy as np\n",
    "array2d=np.array([[1,2,3,],[1,2,3]])\n",
    "print(array2d)"
   ]
  },
  {
   "cell_type": "code",
   "execution_count": 77,
   "id": "e57daf52-5f27-4529-b16a-50339697c734",
   "metadata": {},
   "outputs": [
    {
     "name": "stdout",
     "output_type": "stream",
     "text": [
      "[1 2 3]\n"
     ]
    }
   ],
   "source": [
    "import numpy as np\n",
    "array1d=np.array([[1,2,3],[1,2,3]])\n",
    "array2d=np.array([[1,2,3],[1,2,3]])\n",
    "print(np.union1d(array1d,array2d))"
   ]
  },
  {
   "cell_type": "code",
   "execution_count": null,
   "id": "f37ae236-b6ae-45eb-9a9b-641b866346d7",
   "metadata": {},
   "outputs": [],
   "source": [
    "import numpy as np\n",
    "np.eye((20,20), dtype=\"int\")"
   ]
  },
  {
   "cell_type": "code",
   "execution_count": null,
   "id": "89fc6e55-fa76-49b4-a831-3dd77a1671d9",
   "metadata": {},
   "outputs": [],
   "source": [
    "import numpy as np \n",
    "np.eye(4)"
   ]
  },
  {
   "cell_type": "code",
   "execution_count": 79,
   "id": "d0a03fb9-587d-476a-9419-608fc02cda8a",
   "metadata": {},
   "outputs": [
    {
     "data": {
      "text/plain": [
       "array([[    0,     1,     0],\n",
       "       [  544,  1552,     0],\n",
       "       [  768, 32762,     0]])"
      ]
     },
     "execution_count": 79,
     "metadata": {},
     "output_type": "execute_result"
    }
   ],
   "source": [
    "import numpy as np\n",
    "np.empty((3,3),dtype=\"int\")"
   ]
  },
  {
   "cell_type": "code",
   "execution_count": null,
   "id": "66d2d93d-e299-44d5-bbc6-192c8441d47a",
   "metadata": {},
   "outputs": [],
   "source": [
    "import numpy as np\n",
    "np.ones((3,3),dtype=\"int\")"
   ]
  },
  {
   "cell_type": "code",
   "execution_count": 81,
   "id": "a4f792df-211e-434e-920b-9ee8f6e35e4b",
   "metadata": {},
   "outputs": [
    {
     "name": "stdout",
     "output_type": "stream",
     "text": [
      "Orgnl matrix:\n",
      "[[  1   2   3   4   5   6   7   8   9  10  11  12  13  14  15]\n",
      " [ 16  17  18  19  20  21  22  23  24  25  26  27  28  29  30]\n",
      " [ 31  32  33  34  35  36  37  38  39  40  41  42  43  44  45]\n",
      " [ 46  47  48  49  50  51  52  53  54  55  56  57  58  59  60]\n",
      " [ 61  62  63  64  65  66  67  68  69  70  71  72  73  74  75]\n",
      " [ 76  77  78  79  80  81  82  83  84  85  86  87  88  89  90]\n",
      " [ 91  92  93  94  95  96  97  98  99 100 101 102 103 104 105]\n",
      " [106 107 108 109 110 111 112 113 114 115 116 117 118 119 120]\n",
      " [121 122 123 124 125 126 127 128 129 130 131 132 133 134 135]\n",
      " [136 137 138 139 140 141 142 143 144 145 146 147 148 149 150]\n",
      " [151 152 153 154 155 156 157 158 159 160 161 162 163 164 165]\n",
      " [166 167 168 169 170 171 172 173 174 175 176 177 178 179 180]\n",
      " [181 182 183 184 185 186 187 188 189 190 191 192 193 194 195]\n",
      " [196 197 198 199 200 201 202 203 204 205 206 207 208 209 210]\n",
      " [211 212 213 214 215 216 217 218 219 220 221 222 223 224 225]]\n",
      "\n",
      " Modified matrix:\n",
      "[[  0   0   0   0   0   0   0   0   0   0   0   0   0   0   0]\n",
      " [ 16  17  18  19  20  21  22  23  24  25  26  27  28  29  30]\n",
      " [  0   0   0   0   0   0   0   0   0   0   0   0   0   0   0]\n",
      " [ 46  47  48  49  50  51  52  53  54  55  56  57  58  59  60]\n",
      " [  0   0   0   0   0   0   0   0   0   0   0   0   0   0   0]\n",
      " [ 76  77  78  79  80  81  82  83  84  85  86  87  88  89  90]\n",
      " [  0   0   0   0   0   0   0   0   0   0   0   0   0   0   0]\n",
      " [106 107 108 109 110 111 112 113 114 115 116 117 118 119 120]\n",
      " [  0   0   0   0   0   0   0   0   0   0   0   0   0   0   0]\n",
      " [136 137 138 139 140 141 142 143 144 145 146 147 148 149 150]\n",
      " [  0   0   0   0   0   0   0   0   0   0   0   0   0   0   0]\n",
      " [166 167 168 169 170 171 172 173 174 175 176 177 178 179 180]\n",
      " [  0   0   0   0   0   0   0   0   0   0   0   0   0   0   0]\n",
      " [196 197 198 199 200 201 202 203 204 205 206 207 208 209 210]\n",
      " [  0   0   0   0   0   0   0   0   0   0   0   0   0   0   0]]\n"
     ]
    }
   ],
   "source": [
    "import numpy as np\n",
    "matrix=np.arange(1,226).reshape(15, 15)\n",
    "print(\"Orgnl matrix:\")\n",
    "print(matrix)\n",
    "matrix[::2, :]=0\n",
    "print(\"\\n Modified matrix:\")\n",
    "print(matrix)"
   ]
  },
  {
   "cell_type": "code",
   "execution_count": 90,
   "id": "eed0b2ff-aa19-44ca-9e5d-b99e2620e567",
   "metadata": {},
   "outputs": [
    {
     "data": {
      "text/plain": [
       "array([[1, 1, 1, 1, 1, 1, 1, 1, 1, 1, 1, 1, 1, 1],\n",
       "       [1, 1, 1, 1, 1, 1, 1, 1, 1, 1, 1, 1, 1, 1],\n",
       "       [1, 1, 1, 1, 1, 1, 1, 1, 1, 1, 1, 1, 1, 1],\n",
       "       [1, 1, 1, 1, 1, 1, 1, 1, 1, 1, 1, 1, 1, 1],\n",
       "       [1, 1, 1, 1, 1, 1, 1, 1, 1, 1, 1, 1, 1, 1],\n",
       "       [1, 1, 1, 1, 1, 1, 1, 1, 1, 1, 1, 1, 1, 1],\n",
       "       [1, 1, 1, 1, 1, 1, 1, 1, 1, 1, 1, 1, 1, 1],\n",
       "       [1, 1, 1, 1, 1, 1, 1, 1, 1, 1, 1, 1, 1, 1],\n",
       "       [1, 1, 1, 1, 1, 1, 1, 1, 1, 1, 1, 1, 1, 1],\n",
       "       [1, 1, 1, 1, 1, 1, 1, 1, 1, 1, 1, 1, 1, 1],\n",
       "       [1, 1, 1, 1, 1, 1, 1, 1, 1, 1, 1, 1, 1, 1],\n",
       "       [1, 1, 1, 1, 1, 1, 1, 1, 1, 1, 1, 1, 1, 1],\n",
       "       [1, 1, 1, 1, 1, 1, 1, 1, 1, 1, 1, 1, 1, 1],\n",
       "       [1, 1, 1, 1, 1, 1, 1, 1, 1, 1, 1, 1, 1, 1]])"
      ]
     },
     "execution_count": 90,
     "metadata": {},
     "output_type": "execute_result"
    }
   ],
   "source": [
    "import numpy as np\n",
    "np.ones((14,14), dtype=\"int\")"
   ]
  },
  {
   "cell_type": "code",
   "execution_count": 96,
   "id": "f831a2d3-9b0d-4b46-a42a-f9e5f2b70c30",
   "metadata": {},
   "outputs": [
    {
     "name": "stdout",
     "output_type": "stream",
     "text": [
      "[ 1  2  3  4  5  6  7  8  9 10 11 12 13 14 15 16 17 18 19 20 21 22 23 24]\n"
     ]
    }
   ],
   "source": [
    "import numpy as np\n",
    "matrix=np.arange(1,26).reshape(1)\n",
    "print(matrix)"
   ]
  },
  {
   "cell_type": "code",
   "execution_count": 3,
   "id": "74fe49e4-f63f-4d80-87c7-7f5017147a27",
   "metadata": {},
   "outputs": [
    {
     "name": "stdout",
     "output_type": "stream",
     "text": [
      "[ 1  2  3  4  5  6  7  8  9 10 11 12 13 14 15 16 17 18 19 20 21 22 23 24\n",
      " 25]\n"
     ]
    }
   ],
   "source": [
    "import numpy as np\n",
    "mn=np.arange(1,26)\n",
    "print(mn)"
   ]
  },
  {
   "cell_type": "code",
   "execution_count": 33,
   "id": "40fb0249-2f54-4b39-a308-da15cccfd7dc",
   "metadata": {},
   "outputs": [
    {
     "data": {
      "text/plain": [
       "array([[1, 1, 1, 1, 1, 1, 1, 1, 1, 1, 1, 1],\n",
       "       [1, 1, 1, 1, 1, 1, 1, 1, 1, 1, 1, 1],\n",
       "       [1, 1, 1, 1, 1, 1, 1, 1, 1, 1, 1, 1],\n",
       "       [1, 1, 1, 1, 1, 1, 1, 1, 1, 1, 1, 1],\n",
       "       [1, 1, 1, 1, 1, 1, 1, 1, 1, 1, 1, 1],\n",
       "       [1, 1, 1, 1, 1, 1, 1, 1, 1, 1, 1, 1],\n",
       "       [1, 1, 1, 1, 1, 1, 1, 1, 1, 1, 1, 1],\n",
       "       [1, 1, 1, 1, 1, 1, 1, 1, 1, 1, 1, 1],\n",
       "       [1, 1, 1, 1, 1, 1, 1, 1, 1, 1, 1, 1],\n",
       "       [1, 1, 1, 1, 1, 1, 1, 1, 1, 1, 1, 1],\n",
       "       [1, 1, 1, 1, 1, 1, 1, 1, 1, 1, 1, 1],\n",
       "       [1, 1, 1, 1, 1, 1, 1, 1, 1, 1, 1, 1]])"
      ]
     },
     "execution_count": 33,
     "metadata": {},
     "output_type": "execute_result"
    }
   ],
   "source": [
    "import numpy as np\n",
    "np.ones((12,12),dtype=\"int\")"
   ]
  },
  {
   "cell_type": "code",
   "execution_count": 59,
   "id": "b421849c-bc50-4b81-ad80-073b324e04a1",
   "metadata": {},
   "outputs": [
    {
     "name": "stdout",
     "output_type": "stream",
     "text": [
      "[[1 2 3]\n",
      " [4 5 6]\n",
      " [7 8 9]]\n",
      "alag he\n",
      "[[1 2 3]\n",
      " [4 5 6]\n",
      " [7 8 9]]\n"
     ]
    }
   ],
   "source": [
    "import numpy as np\n",
    "matrix=np.arange(1,10).reshape(3,3)\n",
    "print(matrix)\n",
    "print(\"alag he\")\n",
    "matrix[:3,::2]\n",
    "print(matrix)"
   ]
  },
  {
   "cell_type": "code",
   "execution_count": 61,
   "id": "ade288e8-ea1c-4277-bf6a-81aa48f6f06d",
   "metadata": {},
   "outputs": [
    {
     "name": "stdout",
     "output_type": "stream",
     "text": [
      "[ 6  8 10 12]\n"
     ]
    }
   ],
   "source": [
    "import numpy as np\n",
    "array1=np.array([1,2,3,4],[7,8,9,10])\n",
    "array2=np.array([5,6,7,8],[11,12,13,14])\n",
    "arrayA=np.append\n"
   ]
  },
  {
   "cell_type": "code",
   "execution_count": 3,
   "id": "fd21db6f-4347-42e1-99ff-9c77e4d3fbe2",
   "metadata": {},
   "outputs": [
    {
     "name": "stdout",
     "output_type": "stream",
     "text": [
      "[1 2 3 4]\n",
      "[5 6 7 8]\n"
     ]
    }
   ],
   "source": [
    "import numpy as np\n",
    "array1=np.array([1,2,3,4])\n",
    "array2=np.array([5,6,7,8])\n",
    "print(array1)\n",
    "print(array2)\n"
   ]
  },
  {
   "cell_type": "code",
   "execution_count": 15,
   "id": "3e0f9280-3e13-4bb4-b0c2-83b7dcade996",
   "metadata": {},
   "outputs": [
    {
     "name": "stdout",
     "output_type": "stream",
     "text": [
      "[[ 1  2  3  4]\n",
      " [ 9 10 11 12]\n",
      " [ 5  6  7  8]\n",
      " [13 14 15 16]]\n"
     ]
    }
   ],
   "source": [
    "arrayc=np.concatenate((array1,array2))\n",
    "print(arrayc)"
   ]
  },
  {
   "cell_type": "code",
   "execution_count": 145,
   "id": "944ddd58-9fb4-47d3-bff2-6f98d7ddaa71",
   "metadata": {
    "scrolled": true
   },
   "outputs": [
    {
     "name": "stdout",
     "output_type": "stream",
     "text": [
      "[[ 1  2  3  4]\n",
      " [ 9 10 11 12]]\n",
      "[[ 5  6  7  8]\n",
      " [13 14 15 16]]\n",
      "[[ 1  2  3  4  5  6  7  8]\n",
      " [ 9 10 11 12 13 14 15 16]]\n"
     ]
    }
   ],
   "source": [
    "import numpy as np\n",
    "array1=np.array([[1,2,3,4],[9,10,11,12]])\n",
    "array2=np.array([[5,6,7,8],[13,14,15,16]])\n",
    "print(array1)\n",
    "print(array2)\n",
    "arrayA=np.append(array1,array2,axis=1)\n",
    "print(arrayA)"
   ]
  },
  {
   "cell_type": "code",
   "execution_count": 45,
   "id": "b358e829-b03d-41c2-bce5-13dbc4394652",
   "metadata": {},
   "outputs": [
    {
     "name": "stdout",
     "output_type": "stream",
     "text": [
      "[[ 1  2  3  4]\n",
      " [ 9 10 11 12]]\n",
      "[[ 5  6  7  8]\n",
      " [13 14 15 16]]\n",
      "---------------\n",
      "[[ 1  2  3  4  5  6  7  8]\n",
      " [ 9 10 11 12 13 14 15 16]]\n",
      "------------------\n",
      "[[ 1  2  3  4]\n",
      " [ 9 10 11 12]\n",
      " [ 5  6  7  8]\n",
      " [13 14 15 16]]\n",
      "-------------------\n",
      "[[[ 1  5]\n",
      "  [ 2  6]\n",
      "  [ 3  7]\n",
      "  [ 4  8]]\n",
      "\n",
      " [[ 9 13]\n",
      "  [10 14]\n",
      "  [11 15]\n",
      "  [12 16]]]\n"
     ]
    }
   ],
   "source": [
    "import numpy as np\n",
    "array1=np.array([[1,2,3,4],[9,10,11,12]])\n",
    "array2=np.array([[5,6,7,8],[13,14,15,16]])\n",
    "print(array1)\n",
    "print(array2)\n",
    "print(\"---------------\")\n",
    "arryv=np.hstack((array1,array2))\n",
    "print(arryv)\n",
    "print(\"------------------\")\n",
    "arrayz=np.vstack((array1,array2))\n",
    "print(arrayz)\n",
    "print(\"-------------------\")\n",
    "arrayl=np.dstack((array1,array2))\n",
    "print(arrayl)"
   ]
  },
  {
   "cell_type": "code",
   "execution_count": 55,
   "id": "597981ea-9b32-4b99-a190-53e581cf5e48",
   "metadata": {},
   "outputs": [
    {
     "name": "stdout",
     "output_type": "stream",
     "text": [
      "[1 2 3 4]\n",
      "[5 6 7 8]\n"
     ]
    }
   ],
   "source": [
    "import numpy as np\n",
    "array1=np.array([1,2,3,4],)\n",
    "array2=np.array([5,6,7,8])\n",
    "print(array1)\n",
    "print(array2)\n",
    "\n"
   ]
  },
  {
   "cell_type": "code",
   "execution_count": 93,
   "id": "f28e733e-d5cd-4dcc-87c7-ac67622787da",
   "metadata": {},
   "outputs": [
    {
     "data": {
      "text/plain": [
       "array([[1],\n",
       "       [1],\n",
       "       [1],\n",
       "       [1],\n",
       "       [1],\n",
       "       [1],\n",
       "       [1],\n",
       "       [1],\n",
       "       [1],\n",
       "       [1],\n",
       "       [1],\n",
       "       [1]])"
      ]
     },
     "execution_count": 93,
     "metadata": {},
     "output_type": "execute_result"
    }
   ],
   "source": [
    "import numpy as np\n",
    "np.ones((12,1),dtype=\"int\")"
   ]
  },
  {
   "cell_type": "code",
   "execution_count": 81,
   "id": "733af6ea-50bc-48a8-9876-00ae8a86a624",
   "metadata": {},
   "outputs": [
    {
     "data": {
      "text/plain": [
       "array([[1, 1, 1, 1, 1, 1, 1, 1, 1, 1, 1, 1],\n",
       "       [1, 1, 1, 1, 1, 1, 1, 1, 1, 1, 1, 1],\n",
       "       [1, 1, 1, 1, 1, 1, 1, 1, 1, 1, 1, 1],\n",
       "       [1, 1, 1, 1, 1, 1, 1, 1, 1, 1, 1, 1],\n",
       "       [1, 1, 1, 1, 1, 1, 1, 1, 1, 1, 1, 1],\n",
       "       [1, 1, 1, 1, 1, 1, 1, 1, 1, 1, 1, 1],\n",
       "       [1, 1, 1, 1, 1, 1, 1, 1, 1, 1, 1, 1],\n",
       "       [1, 1, 1, 1, 1, 1, 1, 1, 1, 1, 1, 1],\n",
       "       [1, 1, 1, 1, 1, 1, 1, 1, 1, 1, 1, 1],\n",
       "       [1, 1, 1, 1, 1, 1, 1, 1, 1, 1, 1, 1],\n",
       "       [1, 1, 1, 1, 1, 1, 1, 1, 1, 1, 1, 1],\n",
       "       [1, 1, 1, 1, 1, 1, 1, 1, 1, 1, 1, 1]])"
      ]
     },
     "execution_count": 81,
     "metadata": {},
     "output_type": "execute_result"
    }
   ],
   "source": [
    "import numpy as np\n",
    "np.ones((12,12),dtype=\"int\")"
   ]
  },
  {
   "cell_type": "code",
   "execution_count": 95,
   "id": "fec905fb-4fe6-4064-b727-9ecfafe9058c",
   "metadata": {},
   "outputs": [
    {
     "data": {
      "text/plain": [
       "array([[1, 0, 0],\n",
       "       [0, 1, 0],\n",
       "       [0, 0, 1]])"
      ]
     },
     "execution_count": 95,
     "metadata": {},
     "output_type": "execute_result"
    }
   ],
   "source": [
    "import numpy as np\n",
    "np.eye(3,dtype=int)"
   ]
  },
  {
   "cell_type": "code",
   "execution_count": 103,
   "id": "d222e76d-b67d-45dd-b347-ed8e69ee839f",
   "metadata": {},
   "outputs": [
    {
     "data": {
      "text/plain": [
       "array([[6, 6, 6],\n",
       "       [6, 6, 6],\n",
       "       [6, 6, 6]])"
      ]
     },
     "execution_count": 103,
     "metadata": {},
     "output_type": "execute_result"
    }
   ],
   "source": [
    "import numpy as np\n",
    "np.full((3,3),6)"
   ]
  },
  {
   "cell_type": "code",
   "execution_count": 135,
   "id": "c30cb318-54b8-423a-9c42-e05cea109b70",
   "metadata": {},
   "outputs": [
    {
     "name": "stdout",
     "output_type": "stream",
     "text": [
      "[[[ 1  2  3  4]\n",
      "  [ 9 10 11 12]]\n",
      "\n",
      " [[ 1  2  3  4]\n",
      "  [ 4  5  6  7]]]\n",
      "[[[ 5  6  7  8]\n",
      "  [13 14 15 16]]\n",
      "\n",
      " [[ 3  4  5  6]\n",
      "  [ 4  5  6  7]]]\n",
      "-------------------\n",
      "[[[ 1  2  3  4  5  6  7  8]\n",
      "  [ 9 10 11 12 13 14 15 16]]\n",
      "\n",
      " [[ 1  2  3  4  3  4  5  6]\n",
      "  [ 4  5  6  7  4  5  6  7]]]\n"
     ]
    }
   ],
   "source": [
    "import numpy as np\n",
    "array1=np.array([[[1,2,3,4],[9,10,11,12]],[[1,2,3,4],[4,5,6,7]]])\n",
    "array2=np.array([[[5,6,7,8],[13,14,15,16]],[[3,4,5,6],[4,5,6,7]]])\n",
    "print(array1)\n",
    "print(array2)\n",
    "print(\"-------------------\")\n",
    "arrayA=np.append(array1,array2,axis=2)\n",
    "print(arrayA)"
   ]
  },
  {
   "cell_type": "code",
   "execution_count": 139,
   "id": "aa535139-0149-47dc-a4ba-0a3cfa1c3380",
   "metadata": {},
   "outputs": [
    {
     "name": "stdout",
     "output_type": "stream",
     "text": [
      "[[1. 0. 0. 0.]\n",
      " [0. 1. 0. 0.]\n",
      " [0. 0. 1. 0.]\n",
      " [0. 0. 0. 1.]]\n"
     ]
    }
   ],
   "source": [
    "import numpy as np\n",
    "print(np.identity(4))\n"
   ]
  },
  {
   "cell_type": "code",
   "execution_count": 1,
   "id": "6e922400-1520-47ce-a5cb-46d6a2944c16",
   "metadata": {},
   "outputs": [
    {
     "ename": "AttributeError",
     "evalue": "module 'pandas' has no attribute 'series'",
     "output_type": "error",
     "traceback": [
      "\u001b[1;31m---------------------------------------------------------------------------\u001b[0m",
      "\u001b[1;31mAttributeError\u001b[0m                            Traceback (most recent call last)",
      "Cell \u001b[1;32mIn[1], line 2\u001b[0m\n\u001b[0;32m      1\u001b[0m \u001b[38;5;28;01mimport\u001b[39;00m \u001b[38;5;21;01mpandas\u001b[39;00m \u001b[38;5;28;01mas\u001b[39;00m \u001b[38;5;21;01mpd\u001b[39;00m\n\u001b[1;32m----> 2\u001b[0m ser1\u001b[38;5;241m=\u001b[39mpd\u001b[38;5;241m.\u001b[39mseries([\u001b[38;5;124m\"\u001b[39m\u001b[38;5;124ml\u001b[39m\u001b[38;5;124m\"\u001b[39m]\u001b[38;5;241m*\u001b[39m\u001b[38;5;241m4\u001b[39m)\n\u001b[0;32m      3\u001b[0m \u001b[38;5;28mprint\u001b[39m(ser1)\n",
      "\u001b[1;31mAttributeError\u001b[0m: module 'pandas' has no attribute 'series'"
     ]
    }
   ],
   "source": [
    "import pandas as pd\n",
    "ser1=pd.series([\"l\"]*4)\n",
    "print(ser1)"
   ]
  },
  {
   "cell_type": "code",
   "execution_count": null,
   "id": "6e5679be-26f6-4247-9dfb-4a05af730ead",
   "metadata": {},
   "outputs": [],
   "source": []
  }
 ],
 "metadata": {
  "kernelspec": {
   "display_name": "Python 3 (ipykernel)",
   "language": "python",
   "name": "python3"
  },
  "language_info": {
   "codemirror_mode": {
    "name": "ipython",
    "version": 3
   },
   "file_extension": ".py",
   "mimetype": "text/x-python",
   "name": "python",
   "nbconvert_exporter": "python",
   "pygments_lexer": "ipython3",
   "version": "3.12.4"
  }
 },
 "nbformat": 4,
 "nbformat_minor": 5
}
